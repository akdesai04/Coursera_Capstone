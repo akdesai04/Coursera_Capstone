{
    "cells": [
        {
            "metadata": {
                "collapsed": true
            },
            "cell_type": "markdown",
            "source": "# Introduction"
        },
        {
            "metadata": {},
            "cell_type": "markdown",
            "source": "### The city of Toronto is one of the most populous cities in Canada. It is <br><br>also the most multicultural city and an information technology hub. It <br><br>provides a lot of business opportunities and business friendly environment. <br><br>This also means that the market is highly competitive. As it is a metropolitan, <br><br>owning and operating businesses can cost hefty sum of money. Hence, before <br><br>making the decisions regarding location, operations, staff and logistics; careful <br><br>and detailed analysis needs to be done. The valuable insights derived from the <br><br>same provide with a better understanding of business environmant which <br><br>helps in strategizing the market. This will help in minimalizing the risk and <br><br>forcasting a healthy return on investment."
        },
        {
            "metadata": {},
            "cell_type": "code",
            "source": "",
            "execution_count": null,
            "outputs": []
        }
    ],
    "metadata": {
        "kernelspec": {
            "name": "python3",
            "display_name": "Python 3.6",
            "language": "python"
        },
        "language_info": {
            "name": "python",
            "version": "3.6.8",
            "mimetype": "text/x-python",
            "codemirror_mode": {
                "name": "ipython",
                "version": 3
            },
            "pygments_lexer": "ipython3",
            "nbconvert_exporter": "python",
            "file_extension": ".py"
        }
    },
    "nbformat": 4,
    "nbformat_minor": 1
}